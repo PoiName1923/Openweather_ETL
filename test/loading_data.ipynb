{
 "cells": [
  {
   "cell_type": "code",
   "execution_count": 2,
   "id": "a819ffd4",
   "metadata": {},
   "outputs": [
    {
     "name": "stderr",
     "output_type": "stream",
     "text": [
      "25/05/04 04:52:16 WARN NativeCodeLoader: Unable to load native-hadoop library for your platform... using builtin-java classes where applicable\n",
      "Setting default log level to \"WARN\".\n",
      "To adjust logging level use sc.setLogLevel(newLevel). For SparkR, use setLogLevel(newLevel).\n"
     ]
    }
   ],
   "source": [
    "from pyspark.sql import SparkSession\n",
    "from pyspark.sql.functions import col, lit, desc\n",
    "jars = [\n",
    "    \"/home/jovyan/work/jars/postgresql-42.7.5.jar\",\n",
    "    \"/home/jovyan/work/jars/commons-pool2-2.12.0.jar\",\n",
    "]\n",
    "spark = SparkSession.builder \\\n",
    "    .appName(\"Loading Process\") \\\n",
    "    .master(\"spark://spark-master:7077\") \\\n",
    "    .config(\"spark.executor.memory\", '4G') \\\n",
    "    .config(\"spark.executor.cores\", '4') \\\n",
    "    .config(\"spark.executor.instances\", \"1\") \\\n",
    "    .config(\"spark.cores.max\", '4') \\\n",
    "    .config(\"spark.deploy.defaultCores\", \"4\")   \\\n",
    "    .config(\"spark.task.cpus\", \"4\") \\\n",
    "    .config(\"spark.dynamicAllocation.enabled\", \"false\") \\\n",
    "    .config(\"spark.jars\", \",\".join(jars)) \\\n",
    "    .config(\"spark.sql.session.timeZone\", \"Asia/Ho_Chi_Minh\") \\\n",
    "    .config(\"spark.executorEnv.TZ\", \"Asia/Ho_Chi_Minh\") \\\n",
    "    .config(\"spark.hadoop.fs.defaultFS\",\"hdfs://namenode:9000\") \\\n",
    "    .getOrCreate()"
   ]
  },
  {
   "cell_type": "code",
   "execution_count": 3,
   "id": "4924dc1d",
   "metadata": {},
   "outputs": [],
   "source": [
    "from datetime import datetime\n",
    "from zoneinfo import ZoneInfo\n",
    "\n",
    "now_vietnam = datetime.now(ZoneInfo(\"Asia/Ho_Chi_Minh\"))\n",
    "current_date = now_vietnam.strftime(\"%Y-%m-%d\")"
   ]
  },
  {
   "cell_type": "code",
   "execution_count": 4,
   "id": "8be640cf",
   "metadata": {},
   "outputs": [
    {
     "name": "stderr",
     "output_type": "stream",
     "text": [
      "                                                                                \r"
     ]
    }
   ],
   "source": [
    "df = spark.read.parquet(f\"hdfs://namenode:9000/data/weather/date={current_date}\").orderBy(desc(\"timestamp\"))"
   ]
  },
  {
   "cell_type": "code",
   "execution_count": 4,
   "id": "bf6f1313",
   "metadata": {},
   "outputs": [],
   "source": [
    "from pyspark.sql import functions as F"
   ]
  },
  {
   "cell_type": "code",
   "execution_count": 5,
   "id": "44d45e1c",
   "metadata": {},
   "outputs": [
    {
     "name": "stderr",
     "output_type": "stream",
     "text": [
      "                                                                                \r"
     ]
    },
    {
     "name": "stdout",
     "output_type": "stream",
     "text": [
      "+-------+----------------+--------+---------+\n",
      "|city_id|       city_name|latitude|longitude|\n",
      "+-------+----------------+--------+---------+\n",
      "|1581298|        Haiphong|   20.87|   106.68|\n",
      "|1566083|Ho Chi Minh City|   10.78|    106.7|\n",
      "|1567788|       Soc Trang|     9.6|   105.97|\n",
      "|1581130|           Hanoi|   21.03|    105.8|\n",
      "|1580240|             Hue|   16.46|   107.59|\n",
      "+-------+----------------+--------+---------+\n",
      "\n"
     ]
    }
   ],
   "source": [
    "    # Chọn và chuyển đổi các trường cần thiết\n",
    "cities_df = df.select(\n",
    "    \"city_id\",\n",
    "    \"city_name\",\n",
    "    \"latitude\",\n",
    "    \"longitude\"\n",
    ").distinct()\n",
    "cities_df.show()"
   ]
  },
  {
   "cell_type": "code",
   "execution_count": 6,
   "id": "db948563",
   "metadata": {},
   "outputs": [
    {
     "name": "stdout",
     "output_type": "stream",
     "text": [
      "root\n",
      " |-- city_id: integer (nullable = true)\n",
      " |-- city_name: string (nullable = true)\n",
      " |-- latitude: double (nullable = true)\n",
      " |-- longitude: double (nullable = true)\n",
      "\n"
     ]
    }
   ],
   "source": [
    "cities_df.printSchema()"
   ]
  },
  {
   "cell_type": "code",
   "execution_count": null,
   "id": "d9fc89d4",
   "metadata": {},
   "outputs": [
    {
     "name": "stdout",
     "output_type": "stream",
     "text": [
      "+-------+-------------------+-------------------+------------------+------------------+------------------+------------+----------------+--------------+------------------+-------------+----------+----------------------+-----------------+-------------------+-------------------+-------------------+\n",
      "|city_id|          timestamp|temperature_celsius|feels_like_celsius|  temp_min_celsius|  temp_max_celsius|pressure_hpa|humidity_percent|wind_speed_mps|wind_direction_deg|wind_gust_mps|rain_1h_mm|cloud_coverage_percent|weather_condition|weather_description|       sunrise_time|        sunset_time|\n",
      "+-------+-------------------+-------------------+------------------+------------------+------------------+------------+----------------+--------------+------------------+-------------+----------+----------------------+-----------------+-------------------+-------------------+-------------------+\n",
      "|1580240|2025-05-04 09:45:04|  32.05000000000001| 39.05000000000001| 32.05000000000001| 32.05000000000001|        1007|              66|          2.06|                40|          0.0|       0.0|                    20|           Clouds|         few clouds|2025-05-04 05:23:24|2025-05-04 18:09:21|\n",
      "|1567788|2025-05-04 09:44:59| 31.879999999999995| 37.09000000000003|31.879999999999995|31.879999999999995|        1008|              61|          4.33|               138|         4.25|       0.0|                    61|           Clouds|      broken clouds|2025-05-04 05:38:16|2025-05-04 18:07:26|\n",
      "|1581298|2025-05-04 09:44:53|  28.99000000000001|              34.5| 28.99000000000001| 28.99000000000001|        1007|              79|          4.12|               170|          0.0|       0.0|                    75|           Clouds|      broken clouds|2025-05-04 05:21:18|2025-05-04 18:18:43|\n",
      "|1581130|2025-05-04 09:43:40|  28.99000000000001| 33.47000000000003| 28.99000000000001| 28.99000000000001|        1007|              74|          2.68|               167|         3.35|       0.0|                    91|           Clouds|    overcast clouds|2025-05-04 05:24:36|2025-05-04 18:22:27|\n",
      "|1566083|2025-05-04 09:41:48| 31.100000000000023| 36.97000000000003|29.950000000000045|31.100000000000023|        1008|              67|          2.24|                80|         2.68|       0.0|                    75|           Clouds|      broken clouds|2025-05-04 05:33:57|2025-05-04 18:05:55|\n",
      "|1581298|2025-05-04 09:39:09|  28.99000000000001|              34.5| 28.99000000000001| 28.99000000000001|        1007|              79|          4.12|               170|          0.0|       0.0|                    75|           Clouds|      broken clouds|2025-05-04 05:21:18|2025-05-04 18:18:43|\n",
      "|1580240|2025-05-04 09:37:16|  32.05000000000001| 39.05000000000001| 32.05000000000001| 32.05000000000001|        1007|              66|          2.06|                40|          0.0|       0.0|                    20|           Clouds|         few clouds|2025-05-04 05:23:24|2025-05-04 18:09:21|\n",
      "|1567788|2025-05-04 09:35:22| 31.879999999999995| 37.09000000000003|31.879999999999995|31.879999999999995|        1008|              61|          4.33|               138|         4.25|       0.0|                    61|           Clouds|      broken clouds|2025-05-04 05:38:16|2025-05-04 18:07:26|\n",
      "|1581130|2025-05-04 09:35:03|  28.99000000000001| 33.47000000000003| 28.99000000000001| 28.99000000000001|        1007|              74|          2.68|               167|         3.35|       0.0|                    91|           Clouds|    overcast clouds|2025-05-04 05:24:36|2025-05-04 18:22:27|\n",
      "|1566083|2025-05-04 09:33:41|  30.55000000000001| 36.14000000000004|29.950000000000045| 30.55000000000001|        1008|              69|          2.24|               101|         3.58|       0.0|                    75|           Clouds|      broken clouds|2025-05-04 05:33:57|2025-05-04 18:05:55|\n",
      "+-------+-------------------+-------------------+------------------+------------------+------------------+------------+----------------+--------------+------------------+-------------+----------+----------------------+-----------------+-------------------+-------------------+-------------------+\n",
      "\n"
     ]
    }
   ],
   "source": [
    "weather_df = df.select(\n",
    "        \"city_id\",\n",
    "        \"timestamp\",\n",
    "        \"temperature_celsius\",\n",
    "        \"feels_like_celsius\",\n",
    "        \"temp_min_celsius\",\n",
    "        \"temp_max_celsius\",\n",
    "        \"pressure_hpa\",\n",
    "        \"humidity_percent\",\n",
    "        \"wind_speed_mps\",\n",
    "        \"wind_direction_deg\",\n",
    "        \"wind_gust_mps\",\n",
    "        \"rain_1h_mm\",\n",
    "        \"cloud_coverage_percent\",\n",
    "        \"weather_condition\",\n",
    "        \"weather_description\",\n",
    "        \"sunrise_time\",\n",
    "        \"sunset_time\"\n",
    "    )\n",
    "weather_df.printSchema()"
   ]
  },
  {
   "cell_type": "code",
   "execution_count": 8,
   "id": "ed023ddf",
   "metadata": {},
   "outputs": [],
   "source": [
    "# Tính toán các aggregates theo ngày và thành phố   \n",
    "\n",
    "daily_agg = weather_df.groupBy(\"city_id\").agg(\n",
    "        # Nhiệt độ\n",
    "    F.current_date().alias(\"aggregate_date\"),\n",
    "    F.avg(\"temperature_celsius\").alias(\"avg_temperature\"),\n",
    "    F.max(\"temperature_celsius\").alias(\"max_temperature\"),\n",
    "    F.min(\"temperature_celsius\").alias(\"min_temperature\"),\n",
    "        # Nhiệt độ cảm nhận\n",
    "    F.avg(\"feels_like_celsius\").alias(\"avg_feels_like\"),\n",
    "    F.max(\"feels_like_celsius\").alias(\"max_feels_like\"),\n",
    "    F.min(\"feels_like_celsius\").alias(\"min_feels_like\"),\n",
    "        # Áp suất\n",
    "    F.avg(\"pressure_hpa\").alias(\"avg_pressure\"),\n",
    "    F.max(\"pressure_hpa\").alias(\"max_pressure\"),\n",
    "    F.min(\"pressure_hpa\").alias(\"min_pressure\"),\n",
    "        # Độ ẩm\n",
    "    F.avg(\"humidity_percent\").alias(\"avg_humidity\"),\n",
    "    F.max(\"humidity_percent\").alias(\"max_humidity\"),\n",
    "    F.min(\"humidity_percent\").alias(\"min_humidity\"),\n",
    "        # Gió\n",
    "    F.avg(\"wind_speed_mps\").alias(\"avg_wind_speed\"),\n",
    "    F.max(\"wind_speed_mps\").alias(\"max_wind_speed\"),\n",
    "    F.min(\"wind_speed_mps\").alias(\"min_wind_speed\"),\n",
    "        # Giật gió\n",
    "    F.max(\"wind_gust_mps\").alias(\"max_wind_gust\"),\n",
    "        # Lượng mưa\n",
    "    F.sum(\"rain_1h_mm\").alias(\"total_rainfall\"),\n",
    "        # Số lần đo\n",
    "    F.count(\"*\").alias(\"measurement_count\"),\n",
    "        # Thời gian cập nhật\n",
    "    F.current_timestamp().alias(\"date\")\n",
    ")"
   ]
  },
  {
   "cell_type": "code",
   "execution_count": 9,
   "id": "fcb76bed",
   "metadata": {},
   "outputs": [
    {
     "name": "stdout",
     "output_type": "stream",
     "text": [
      "+-------+--------------+------------------+------------------+------------------+------------------+-----------------+-----------------+------------+------------+------------+------------+------------+------------+--------------+--------------+--------------+-------------+--------------+-----------------+--------------------+\n",
      "|city_id|aggregate_date|   avg_temperature|   max_temperature|   min_temperature|    avg_feels_like|   max_feels_like|   min_feels_like|avg_pressure|max_pressure|min_pressure|avg_humidity|max_humidity|min_humidity|avg_wind_speed|max_wind_speed|min_wind_speed|max_wind_gust|total_rainfall|measurement_count|                date|\n",
      "+-------+--------------+------------------+------------------+------------------+------------------+-----------------+-----------------+------------+------------+------------+------------+------------+------------+--------------+--------------+--------------+-------------+--------------+-----------------+--------------------+\n",
      "|1567788|    2025-05-04|31.879999999999995|31.879999999999995|31.879999999999995| 37.09000000000003|37.09000000000003|37.09000000000003|      1008.0|        1008|        1008|        61.0|          61|          61|          4.33|          4.33|          4.33|         4.25|           0.0|                2|2025-05-04 09:50:...|\n",
      "|1581130|    2025-05-04| 28.99000000000001| 28.99000000000001| 28.99000000000001| 33.47000000000003|33.47000000000003|33.47000000000003|      1007.0|        1007|        1007|        74.0|          74|          74|          2.68|          2.68|          2.68|         3.35|           0.0|                2|2025-05-04 09:50:...|\n",
      "|1581298|    2025-05-04| 28.99000000000001| 28.99000000000001| 28.99000000000001|              34.5|             34.5|             34.5|      1007.0|        1007|        1007|        79.0|          79|          79|          4.12|          4.12|          4.12|          0.0|           0.0|                2|2025-05-04 09:50:...|\n",
      "|1580240|    2025-05-04| 32.05000000000001| 32.05000000000001| 32.05000000000001| 39.05000000000001|39.05000000000001|39.05000000000001|      1007.0|        1007|        1007|        66.0|          66|          66|          2.06|          2.06|          2.06|          0.0|           0.0|                2|2025-05-04 09:50:...|\n",
      "|1566083|    2025-05-04|30.825000000000017|31.100000000000023| 30.55000000000001|36.555000000000035|36.97000000000003|36.14000000000004|      1008.0|        1008|        1008|        68.0|          69|          67|          2.24|          2.24|          2.24|         3.58|           0.0|                2|2025-05-04 09:50:...|\n",
      "+-------+--------------+------------------+------------------+------------------+------------------+-----------------+-----------------+------------+------------+------------+------------+------------+------------+--------------+--------------+--------------+-------------+--------------+-----------------+--------------------+\n",
      "\n"
     ]
    }
   ],
   "source": [
    "daily_agg.show()"
   ]
  }
 ],
 "metadata": {
  "kernelspec": {
   "display_name": "Python 3 (ipykernel)",
   "language": "python",
   "name": "python3"
  },
  "language_info": {
   "codemirror_mode": {
    "name": "ipython",
    "version": 3
   },
   "file_extension": ".py",
   "mimetype": "text/x-python",
   "name": "python",
   "nbconvert_exporter": "python",
   "pygments_lexer": "ipython3",
   "version": "3.11.6"
  }
 },
 "nbformat": 4,
 "nbformat_minor": 5
}
