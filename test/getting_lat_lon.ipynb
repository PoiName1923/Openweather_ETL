{
 "cells": [
  {
   "cell_type": "code",
   "execution_count": 20,
   "id": "532bbec9",
   "metadata": {},
   "outputs": [
    {
     "name": "stdout",
     "output_type": "stream",
     "text": [
      "Pingding County\n",
      "'lat' : 37.803011,\n",
      "'lon' : 113.6246894\n",
      "Pingding\n",
      "'lat' : 22.0259517,\n",
      "'lon' : 110.4031831\n",
      "Bình Định\n",
      "'lat' : 16.3528126,\n",
      "'lon' : 107.4833401\n",
      "平定县\n",
      "'lat' : 37.8391014,\n",
      "'lon' : 113.7603646\n",
      "Bình Định\n",
      "'lat' : 10.555617,\n",
      "'lon' : 105.522909\n"
     ]
    }
   ],
   "source": [
    "import requests\n",
    "API_KEY = \"0456962f3b8714167ed9ab89c38dc02e\"\n",
    "LIMIT = 10\n",
    "CITY_NAME = \"Binh Dinh\"\n",
    "URL_CITY = f\"http://api.openweathermap.org/geo/1.0/direct?q={CITY_NAME}&limit={LIMIT}&appid={API_KEY}\"    \n",
    "response_lat_lon = requests.get(URL_CITY)\n",
    "response_lat_lon.raise_for_status()\n",
    "data_lat_lon= response_lat_lon.json()\n",
    "\n",
    "for i in data_lat_lon:\n",
    "    print(i['name'])\n",
    "    print(f\"'lat' : {i['lat']},\")\n",
    "    print(f\"'lon' : {i['lon']}\")"
   ]
  },
  {
   "cell_type": "code",
   "execution_count": null,
   "id": "f9e2b9fe",
   "metadata": {},
   "outputs": [],
   "source": []
  },
  {
   "cell_type": "code",
   "execution_count": 26,
   "id": "3327bd57",
   "metadata": {},
   "outputs": [
    {
     "name": "stdout",
     "output_type": "stream",
     "text": [
      "{'coord': {'lon': 108.2096, 'lat': 16.0454}, 'weather': [{'id': 801, 'main': 'Clouds', 'description': 'few clouds', 'icon': '02d'}], 'base': 'stations', 'main': {'temp': 304.15, 'feels_like': 308.5, 'temp_min': 304.15, 'temp_max': 304.15, 'pressure': 1012, 'humidity': 62, 'sea_level': 1012, 'grnd_level': 999}, 'visibility': 10000, 'wind': {'speed': 1.03, 'deg': 0}, 'clouds': {'all': 20}, 'dt': 1746151587, 'sys': {'type': 1, 'id': 9306, 'country': 'VN', 'sunrise': 1746138143, 'sunset': 1746183947}, 'timezone': 25200, 'id': 1594018, 'name': 'Ap Ba', 'cod': 200}\n"
     ]
    }
   ],
   "source": [
    "API_KEY = \"0456962f3b8714167ed9ab89c38dc02e\"\n",
    "LIMIT = 10\n",
    "location = {\n",
    "'lat' : 16.047079   , 'lon' : 108.206230\n",
    "}\n",
    "URL_DATA = f\"https://api.openweathermap.org/data/2.5/weather?lat={location['lat']}&lon={location['lon']}&appid={API_KEY}\"\n",
    "response_weather = requests.get(URL_DATA)\n",
    "response_weather.raise_for_status()\n",
    "data_weather= response_weather.json()\n",
    "print(data_weather)"
   ]
  },
  {
   "cell_type": "code",
   "execution_count": null,
   "id": "66bd534b",
   "metadata": {},
   "outputs": [],
   "source": []
  }
 ],
 "metadata": {
  "kernelspec": {
   "display_name": "3.11.9",
   "language": "python",
   "name": "python3"
  },
  "language_info": {
   "codemirror_mode": {
    "name": "ipython",
    "version": 3
   },
   "file_extension": ".py",
   "mimetype": "text/x-python",
   "name": "python",
   "nbconvert_exporter": "python",
   "pygments_lexer": "ipython3",
   "version": "3.11.9"
  }
 },
 "nbformat": 4,
 "nbformat_minor": 5
}
